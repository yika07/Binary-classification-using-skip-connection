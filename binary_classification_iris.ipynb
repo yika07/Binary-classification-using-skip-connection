{
    "cells": [
        {
            "cell_type": "code",
            "execution_count": null,
            "source": [
                "import torch\n",
                "from torch import nn\n",
                "import torch.nn.functional as F\n",
                "import numpy as np\n",
                "from sklearn.model_selection import train_test_split\n",
                "from torch.utils.data import TensorDataset, DataLoader\n",
                "from torch import FloatTensor\n",
                "from sklearn import datasets"
            ],
            "outputs": [],
            "metadata": {}
        },
        {
            "cell_type": "code",
            "execution_count": null,
            "source": [
                "iris = datasets.load_iris()\n",
                "x = iris.data\n",
                "y = iris.target"
            ],
            "outputs": [],
            "metadata": {}
        },
        {
            "cell_type": "code",
            "execution_count": null,
            "source": [
                "x_data = []\n",
                "y_data = []\n",
                "\n",
                "for i in range(len(x)):\n",
                "    if y[i] == 0 or y[i] == 1:\n",
                "        x_list = x[i].tolist()\n",
                "        x_data.append(x_list)\n",
                "        y_data.append(y[i])"
            ],
            "outputs": [],
            "metadata": {}
        },
        {
            "cell_type": "code",
            "execution_count": null,
            "source": [
                "x_train, x_test, y_train, y_test = train_test_split(x, y,\n",
                "                                                    test_size=10,\n",
                "                                                    random_state=42)\n",
                "\n",
                "train_idx = []\n",
                "test_idx = []\n",
                "\n",
                "for i in range(len(y_train)):\n",
                "    if y_train[i] == 2:\n",
                "        train_idx.append(i)\n",
                "\n",
                "for i in range(len(y_test)):\n",
                "    if y_test[i] == 2:\n",
                "        test_idx.append(i)\n",
                "\n",
                "x_train = np.delete(x_train, train_idx, axis=0)\n",
                "x_test = np.delete(x_test, test_idx, axis=0)\n",
                "\n",
                "y_train = np.delete(y_train, train_idx)\n",
                "y_test = np.delete(y_test, test_idx)\n",
                "\n",
                "x_train = np.array(x_train)\n",
                "y_train = np.array(y_train)\n",
                "x_test = np.array(x_test)\n",
                "y_test = np.array(y_test)\n",
                "\n",
                "Y_train = torch.as_tensor(y_train)\n",
                "Y_test = torch.as_tensor(y_test)\n",
                "\n",
                "train_set = TensorDataset(FloatTensor(x_train), Y_train)\n",
                "test_set = TensorDataset(FloatTensor(x_test), Y_test)\n",
                "\n",
                "train_set = DataLoader(train_set, batch_size=20)\n",
                "test_set = DataLoader(test_set, batch_size=1)"
            ],
            "outputs": [],
            "metadata": {}
        },
        {
            "cell_type": "code",
            "execution_count": null,
            "source": [
                "class Circuit(nn.Module):\n",
                "    def __init__(self):\n",
                "        super().__init__()\n",
                "        self.fc1 = nn.Linear(4, 4)\n",
                "        self.fc2 = nn.Linear(4,4)\n",
                "        self.fc3 = nn.Linear(4,2)\n",
                "        \n",
                "    def forward(self, x):\n",
                "        x1 = F.relu(self.fc1(x))\n",
                "        x2 = F.tanh(self.fc2(x1))+x1\n",
                "        x3 = (self.fc3(x2))**2\n",
                "\n",
                "\n",
                "        return x3\n",
                "model = Circuit()"
            ],
            "outputs": [],
            "metadata": {}
        },
        {
            "cell_type": "code",
            "execution_count": null,
            "source": [
                "criterion = nn.CrossEntropyLoss()\n",
                "\n",
                "optimizer = torch.optim.SGD(model.parameters(), lr=0.01, momentum=0.9)\n",
                "# optimizer = torch.optim.Adam(model.parameters(), lr=0.1)"
            ],
            "outputs": [],
            "metadata": {}
        },
        {
            "cell_type": "code",
            "execution_count": null,
            "source": [
                "n_epochs = 100\n",
                "LR = 0.01\n",
                "\n",
                "for epoch in range(n_epochs):\n",
                "    train_loss = 0.0\n",
                "    for data in train_set:\n",
                "\n",
                "        input = data[0]\n",
                "        # input = torch.tensor(input)\n",
                "        # input = input.type(torch.FloatTensor)\n",
                "        target = data[1]\n",
                "        # target = torch.tensor(target)\n",
                "        # target = target.type(torch.FloatTensor)\n",
                "        optimizer.zero_grad()\n",
                "        output = model(input)\n",
                "        loss = criterion(output,target)\n",
                "        loss.backward()\n",
                "        optimizer.step()\n",
                "        train_loss += loss.item()\n",
                "    train_loss = train_loss/len(x_train)\n",
                "    if epoch%2 == 0:\n",
                "        print('Epoch: {} \\tTraining Loss: {:.6f}'.format(epoch+1, train_loss))"
            ],
            "outputs": [],
            "metadata": {}
        },
        {
            "cell_type": "code",
            "execution_count": null,
            "source": [
                "def test(network, data):\n",
                "    # tests the accuracy of the network on the dataset data and returns it (the accuracy)\n",
                "    correct_count = 0\n",
                "    all_count = 0\n",
                "\n",
                "    with torch.no_grad():\n",
                "        for x, y in data:\n",
                "            outputs = network(x)\n",
                "            _, pred = torch.max(outputs.data, 1)\n",
                "            all_count += y.size(0)\n",
                "            correct_count += (pred == y).sum().item()\n",
                "\n",
                "    return correct_count / all_count"
            ],
            "outputs": [],
            "metadata": {}
        },
        {
            "cell_type": "code",
            "execution_count": null,
            "source": [
                "print(test(model,train_set))\n",
                "print(test(model,test_set))"
            ],
            "outputs": [],
            "metadata": {}
        },
        {
            "cell_type": "code",
            "execution_count": null,
            "source": [],
            "outputs": [],
            "metadata": {}
        }
    ],
    "metadata": {
        "orig_nbformat": 4,
        "language_info": {
            "name": "python",
            "version": "3.9.5",
            "mimetype": "text/x-python",
            "codemirror_mode": {
                "name": "ipython",
                "version": 3
            },
            "pygments_lexer": "ipython3",
            "nbconvert_exporter": "python",
            "file_extension": ".py"
        },
        "kernelspec": {
            "name": "python3",
            "display_name": "Python 3.9.5 64-bit ('pythonProject': conda)"
        },
        "interpreter": {
            "hash": "2554f967321230018be31673a68daafab85c8548764b989b26aa1b80b87ff581"
        }
    },
    "nbformat": 4,
    "nbformat_minor": 2
}